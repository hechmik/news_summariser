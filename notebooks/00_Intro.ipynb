{
 "cells": [
  {
   "cell_type": "markdown",
   "metadata": {},
   "source": [
    "In this notebook I will try to test to create the pipeline necessary for creating a news summariser via ML. I will iteratively improve them and build ad-hoc software modules in order to enhance the usability of the codebase\n",
    "# Import libraries"
   ]
  },
  {
   "cell_type": "code",
   "execution_count": 1,
   "metadata": {},
   "outputs": [],
   "source": [
    "import nltk\n",
    "import numpy as np\n",
    "import pandas as pd\n",
    "import feedparser\n",
    "import scipy"
   ]
  },
  {
   "cell_type": "markdown",
   "metadata": {},
   "source": [
    "## Load dataset"
   ]
  },
  {
   "cell_type": "markdown",
   "metadata": {},
   "source": [
    "Feed"
   ]
  },
  {
   "cell_type": "code",
   "execution_count": 2,
   "metadata": {},
   "outputs": [],
   "source": [
    "the_guardian = \"https://www.theguardian.com/international/rss\"\n",
    "feed = feedparser.parse(the_guardian)"
   ]
  },
  {
   "cell_type": "code",
   "execution_count": 3,
   "metadata": {},
   "outputs": [
    {
     "data": {
      "text/plain": [
       "'Coronavirus: Europe on alert as four more deaths reported in Italy – updates'"
      ]
     },
     "execution_count": 3,
     "metadata": {},
     "output_type": "execute_result"
    }
   ],
   "source": [
    "feed.entries[0].title"
   ]
  },
  {
   "cell_type": "code",
   "execution_count": 4,
   "metadata": {},
   "outputs": [
    {
     "data": {
      "text/plain": [
       "'https://www.theguardian.com/world/live/2020/feb/25/coronavirus-live-updates-outbreak-latest-news-italy-italia-deaths-symptoms-china-stocks-wall-street-dow-jones-economy-falls'"
      ]
     },
     "execution_count": 4,
     "metadata": {},
     "output_type": "execute_result"
    }
   ],
   "source": [
    "feed.entries[0].link"
   ]
  },
  {
   "cell_type": "code",
   "execution_count": 5,
   "metadata": {},
   "outputs": [
    {
     "data": {
      "text/plain": [
       "84"
      ]
     },
     "execution_count": 5,
     "metadata": {},
     "output_type": "execute_result"
    }
   ],
   "source": [
    "len(feed.entries)"
   ]
  },
  {
   "cell_type": "code",
   "execution_count": 6,
   "metadata": {},
   "outputs": [],
   "source": [
    "articles_to_download = {}\n",
    "for i in range(1, len(feed.entries)):\n",
    "    key = feed.entries[i].title\n",
    "    value = feed.entries[i].link\n",
    "    articles_to_download[key] = value"
   ]
  },
  {
   "cell_type": "code",
   "execution_count": 7,
   "metadata": {},
   "outputs": [
    {
     "data": {
      "text/plain": [
       "dict_keys(['Trump lashes out at liberal supreme court justices and demands recusals', \"Barnier pours scorn on Johnson's spokesman ahead of trade talks\", 'Pop star Duffy says she was raped, drugged and held captive', 'Greta Thunberg and Malala Yousafzai meet at Oxford University', 'Harvey Weinstein to face charges in Los Angeles after guilty verdict in New York', 'Hosni Mubarak, Egyptian president ousted during Arab spring, dies at 91', 'Ulcerative colitis: bacteria findings raise hopes for new treatment', 'Netanyahu announces new settlements days before Israeli election', \"Spanish carnival's Holocaust-themed parade of dancing 'Nazis' sparks outrage\", \"Ex-White House doctor: to help Trump's diet I hid cauliflower in his mash\", 'Do you take out the bins – or give great hugs? Why it pays to know your love language', \"Bloody eye sockets, defaced statues: the visual legacy of Chile's unrest\", 'What does Hair Love’s Oscar success say about diversity in Hollywood?', 'How to cook the perfect pancake', 'How to protect yourself from coronavirus', 'Core blimey: how a 62-year-old man planked for eight hours – and what he can teach us', 'Against the grain: why millet is making a comeback in rural India', 'Josie Lawrence: ‘Of course I don’t think I’m sexy!’', \"Coronavirus: could this be China's Chernobyl moment? – podcast\", 'Manchester City: following the money – podcast', 'Syria: the fight for Idlib', 'With Harvey Weinstein’s conviction, the old excuses no longer apply | Hadley Freeman', 'Amid the coronavirus lockdown, Chinese social media is full of laughter and anger | Yuan Ren', \"Bernie Sanders can't be bought – his campaign is making me strangely hopeful | Arwa Mahdawi\", 'Hysteria over Sinn Féin entering government is about power, not the past | Brian Hanley', \"The Weinstein verdict is a huge win for #MeToo – but what's next? | Jill Filipovic\", 'The only way to a Labour victory may be a pact with the Lib Dems | Polly Toynbee', 'Chelsea v Bayern Munich: Champions League last 16 – live!', 'Napoli v Barcelona: Champions League last 16 - live!', \"Manchester City's Pep Guardiola hopes Real Madrid tie is 'fair for both sides'\", \"Size matters: Why NFL teams are obsessed with quarterbacks' handspans\", 'Where did it all go wrong for Deportivo La Coruña?', \"Racewalkers' long march for equality deserves recognition at Tokyo 2020\", 'Ball-tampering reverberations endure as Australia return to scene of the crime | Sam Perry', '‘Back yourselves’: How Australia prepare for the Track World Championships | Kieran Pender', \"Trump lashes out at Schumer as Democrats slam 'no plan' on coronavirus – live\", 'Plácido Domingo apologises to his accusers', 'French police focus on pet of pregnant woman mauled to death by dogs', 'Police and politicians ‘turned blind eye’ to Westminster child abuse claims', 'Costa Rican indigenous land activist killed by armed mob', 'Domestic abuser jailed after landmark appeal by solicitor general', 'Greek authorities scramble to calm tensions over migrant detention camp', \"'No justice' for Tanzanian journalist freed after seven months in jail\", \"Man convicted of murdering ex-partner's mother in Ireland\", \"Julian Assange was 'handcuffed 11 times and stripped naked'\", \"Hockney muse Celia Birtwell: 'Nobody else has ever asked to draw me'\", \"Director Richard Stanley: 'A coven of witches was using my house.'\", \"BBC to film series based on Sally Rooney's hit debut novel\", \"Seth Meyers on Sanders' lead: 'Most actual voters don’t think like pundits'\", 'House of Glass by Hadley Freeman review – flight and fight of a Jewish family', 'Xbox Series X console features 12 teraflops graphics processor', 'Global health challenges: how innovative collaboration is key to tackling diseases', 'Drugs by drone and mother mentors: how health services across the globe are being transformed', 'From falsified medicines to storage mishaps: the fragile state of drug supply chains', 'Why it makes financial sense to achieve global universal healthcare by 2030', 'Italy travel advice: can you cancel over coronavirus?', 'Thunberging: how climate anxiety created a new dating trend', 'Ecological grief: I mourn the loss of nature – it saved me from addiction', 'Sex with my boyfriend is consistently mediocre', \"Gok Wan: 'I once wore head-to-toe beige – I looked like a Ford Cortina!'\", 'Carrot soup and clams | Nigel Slater', 'The end of farming?', \"Weinstein's enablers: how associates helped him silence accusers for years\", 'Hosni Mubarak obituary', 'Why chlorinated chicken is centre of the table in UK-EU talks', \"Malaysia's political turmoil: everything you need to know\", 'Coronavirus closures reveal vast scale of China’s secretive wildlife farm industry', 'How have your travel plans been affected by the coronavirus?', \"Men's makeup: share your experiences\", \"Your pictures: share your photos on the theme of ‘luck'\", \"'It is a little puzzling': readers on early signs of spring\", \"Inside Italy's coronavirus 'red zone' – video diary\", 'Hosni Mubarak: the rise and fall of the Egyptian dictator – video obituary', \"Wuhan's cat rescuer: the man saving pets abandoned during coronavirus outbreak – video\", 'How the Democrats will decide who fights Trump – video', 'Do face masks help prevent coronavirus? – video explainer', 'Six packs, success and solitude: men in the media | Modern Masculinity', \"Petals, pancakes and teargas: Tuesday's best photos\", 'Taj Mahal posers through the years – in pictures', 'Extreme selfies: the photographer who goes out on a limb – in pictures', 'Canary Islands sandstorm leaves tourists stranded – in pictures', 'Rio carnival 2020 – in pictures', 'Bohai Bay: the Chinese region disappearing inch by inch – in pictures'])"
      ]
     },
     "execution_count": 7,
     "metadata": {},
     "output_type": "execute_result"
    }
   ],
   "source": [
    "articles_to_download.keys()"
   ]
  },
  {
   "cell_type": "code",
   "execution_count": 8,
   "metadata": {},
   "outputs": [
    {
     "data": {
      "text/plain": [
       "dict_values(['https://www.theguardian.com/us-news/2020/feb/25/trump-supreme-court-sonia-sotomayor-ruth-bader-ginsburg', 'https://www.theguardian.com/politics/2020/feb/25/keep-chlorinated-chicken-ban-to-win-trade-deal-eu-tells-uk', 'https://www.theguardian.com/music/2020/feb/25/pop-star-duffy-says-she-was-raped-drugged-and-held-captive', 'https://www.theguardian.com/uk-news/2020/feb/25/greta-thunberg-and-malala-yousafzai-meet-at-oxford-university', 'https://www.theguardian.com/world/2020/feb/24/harvey-weinstein-los-angeles-trial', 'https://www.theguardian.com/world/2020/feb/25/hosni-mubarak-egyptian-president-ousted-during-arab-spring-dies-at-91', 'https://www.theguardian.com/society/2020/feb/25/ulcerative-colitis-bacteria-findings-raise-hopes-for-new-treatment', 'https://www.theguardian.com/world/2020/feb/25/netanyahu-announces-new-settlements-days-before-israeli-election', 'https://www.theguardian.com/world/2020/feb/25/parade-of-nazis-in-spanish-carnival-sparks-furious-criticism', 'https://www.theguardian.com/us-news/2020/feb/25/trump-doctor-white-house-ronny-jackson', 'https://www.theguardian.com/lifeandstyle/2020/feb/25/love-language-take-out-bins-give-great-hugs-partner', 'https://www.theguardian.com/world/2020/feb/25/chile-photographs-protest-statues-graffiti', 'https://www.theguardian.com/film/2020/feb/25/what-hair-love-oscar-success-diversity-hollywood', 'https://www.theguardian.com/food/2020/feb/25/pancakes-how-to-cook-perfect-pancake-recipe', 'https://www.theguardian.com/world/2020/feb/25/how-to-protect-yourself-from-coronavirus', 'https://www.theguardian.com/lifeandstyle/shortcuts/2020/feb/25/george-hood-62-year-old-man-planked-eight-hours-world-record', 'https://www.theguardian.com/global-development/2020/feb/25/against-the-grain-why-millet-is-enjoying-an-indian-revival-nagaland', 'https://www.theguardian.com/stage/2020/feb/25/josie-lawrence-of-course-i-dont-think-im-sexy', 'https://www.theguardian.com/news/audio/2020/feb/25/could-coronavirus-be-china-chernobyl-moment-podcast', 'https://www.theguardian.com/news/audio/2020/feb/24/manchester-city-following-the-money', 'https://www.theguardian.com/news/audio/2020/feb/21/syria-the-fight-for-idlib-podcast', 'https://www.theguardian.com/commentisfree/2020/feb/25/harvey-weinstein-rape-conviction-movie-industry-hadley-freeman', 'https://www.theguardian.com/commentisfree/2020/feb/25/coronavirus-lockdown-chinese-social-media-laughter-anger', 'https://www.theguardian.com/commentisfree/2020/feb/25/bernie-sanders-cant-be-bought-strangely-hopeful', 'https://www.theguardian.com/commentisfree/2020/feb/25/sinn-fein-party-two-party-system', 'https://www.theguardian.com/commentisfree/2020/feb/25/weinstein-verdict-metoo-movement-whats-next', 'https://www.theguardian.com/commentisfree/2020/feb/25/labour-lib-dems-pact', 'https://www.theguardian.com/football/live/2020/feb/25/chelsea-v-bayern-munich-champions-league-last-16-live', 'https://www.theguardian.com/football/live/2020/feb/25/napoli-v-barcelona-champions-league-last-16-live', 'https://www.theguardian.com/football/2020/feb/25/pep-guardiola-manchester-city-real-madrid-champions-league', 'https://www.theguardian.com/sport/2020/feb/25/joe-burrow-hand-size-nfl-quarterbacks', 'https://www.theguardian.com/football/copa90/2020/feb/25/deportivo-la-coruna-la-liga-wrong-spain', 'https://www.theguardian.com/sport/blog/2020/feb/25/racewalkers-long-march-for-equality-deserves-recognition-at-tokyo-2020', 'https://www.theguardian.com/sport/2020/feb/26/ball-tampering-reverberations-endure-as-australia-return-to-scene-of-the', 'https://www.theguardian.com/sport/2020/feb/26/back-yourselves-how-australia-prepare-for-the-track-world-championships', 'https://www.theguardian.com/us-news/live/2020/feb/25/donald-trump-india-south-carolina-democrat-debate-modi-bernie-sanders-mike-bloomberg', 'https://www.theguardian.com/music/2020/feb/25/placido-domingo-apologises-to-his-accusers', 'https://www.theguardian.com/world/2020/feb/25/french-police-focus-on-pet-of-pregnant-woman-mauled-to-death-by-dogs', 'https://www.theguardian.com/uk-news/2020/feb/25/police-and-politicians-turned-blind-eye-to-westminster-child-abuse-claims-report', 'https://www.theguardian.com/environment/2020/feb/25/costa-rican-indigenous-land-activist-killed-by-armed-mob', 'https://www.theguardian.com/law/2020/feb/25/violent-domestic-abuser-jailed-landmark-appeal-solicitor-general', 'https://www.theguardian.com/world/2020/feb/25/clashes-over-greeces-migrant-detention-camp-plans-continue', 'https://www.theguardian.com/global-development/2020/feb/25/no-justice-for-tanzanian-journalist-freed-after-seven-months-in-jail', 'https://www.theguardian.com/world/2020/feb/25/man-convicted-of-murdering-ex-partners-mother-in-ireland', 'https://www.theguardian.com/media/2020/feb/25/julian-assange-handcuffed-stripped-naked-claim-lawyers', 'https://www.theguardian.com/artanddesign/2020/feb/25/tate-david-hockney-muse-celia-birtwell-nobody-else-has-ever-asked-to-draw-me', 'https://www.theguardian.com/film/2020/feb/25/director-richard-stanley-interview-color-out-of-space', 'https://www.theguardian.com/media/2020/feb/25/bbc-to-film-series-based-on-sally-rooneys-hit-debut-novel-conversations-with-friends-normal-people', 'https://www.theguardian.com/culture/2020/feb/25/seth-meyers-bernie-sanders-stephen-colbert-trevor-noah', 'https://www.theguardian.com/books/2020/feb/25/house-of-glass-by-hadley-freeman-review-flight-and-fight-of-a-jewish-family', 'https://www.theguardian.com/games/2020/feb/25/xbox-series-x-console-features-12-teraflops-graphics-processor', 'https://www.theguardian.com/global-health-progress/2020/jan/30/global-health-challenges-how-innovative-collaboration-is-key-to-tackling-diseases', 'https://www.theguardian.com/global-health-progress/2019/nov/28/drugs-by-drone-and-mother-mentors-how-health-services-across-the-globe-are-being-transformed', 'https://www.theguardian.com/global-health-progress/2019/nov/28/from-falsified-medicines-to-storage-mishaps-the-fragile-state-of-drug-supply-chains', 'https://www.theguardian.com/global-health-progress/2019/nov/28/why-it-makes-financial-sense-to-achieve-global-universal-healthcare-by-2030', 'https://www.theguardian.com/money/2020/feb/25/italy-travel-advice-cancel-coronavirus-airlines-insurers-refunds-holidays', 'https://www.theguardian.com/lifeandstyle/shortcuts/2020/feb/25/thunberging-climate-anxiety-created-new-dating-trend-okcupid', 'https://www.theguardian.com/lifeandstyle/2020/feb/25/ecological-grief-i-mourn-the-loss-of-nature-it-saved-me-from-addiction', 'https://www.theguardian.com/lifeandstyle/2020/feb/25/sex-with-my-boyfriend-is-consistently-mediocre', 'https://www.theguardian.com/fashion/2020/feb/25/gok-wan-i-once-wore-head-to-toe-beige-i-looked-like-a-ford-cortina', 'https://www.theguardian.com/food/2020/feb/25/nigel-slater-midweek-meal-carrot-soup-clams-simple', 'https://www.theguardian.com/environment/2020/feb/25/the-end-of-farming-rewilding-intensive-agriculture-food-safety', 'https://www.theguardian.com/world/2020/feb/25/harvey-weinstein-trial-helpers-enablers', 'https://www.theguardian.com/world/2020/feb/25/hosni-mubarak-obituary', 'https://www.theguardian.com/politics/2020/feb/25/why-chlorinated-chicken-is-centre-of-the-table-in-uk-eu-talks', 'https://www.theguardian.com/world/2020/feb/25/malaysias-political-turmoil-everything-you-need-to-know', 'https://www.theguardian.com/environment/2020/feb/25/coronavirus-closures-reveal-vast-scale-of-chinas-secretive-wildlife-farm-industry', 'https://www.theguardian.com/world/2020/feb/24/how-have-your-travel-plans-been-affected-by-the-coronavirus', 'https://www.theguardian.com/fashion/2020/feb/23/mens-makeup-share-your-experiences', 'https://www.theguardian.com/community/2020/feb/23/your-pictures-share-your-photos-on-the-theme-of-luck', 'https://www.theguardian.com/environment/2020/feb/21/it-is-a-little-puzzling-readers-on-early-signs-of-spring', 'https://www.theguardian.com/world/video/2020/feb/25/inside-italys-coronavirus-red-zone-video-diary', 'https://www.theguardian.com/world/video/2020/feb/25/hosni-mubarak-the-rise-and-fall-of-the-egyptian-dictator-video-obituary', 'https://www.theguardian.com/world/video/2020/feb/14/catman-of-wuhan-the-man-rescuing-pets-abandoned-amid-coronavirus-outbreak-video', 'https://www.theguardian.com/us-news/video/2020/jan/30/how-the-democrats-will-decide-who-fights-trump-video', 'https://www.theguardian.com/world/video/2020/feb/05/do-face-masks-help-prevent-coronavirus-video-explainer', 'https://www.theguardian.com/media/video/2020/feb/06/six-packs-success-and-solitude-men-in-the-media-modern-masculinity', 'https://www.theguardian.com/news/gallery/2020/feb/25/petals-pancakes-and-teargas-tuesdays-best-photos', 'https://www.theguardian.com/world/gallery/2020/feb/25/taj-mahal-posers-through-the-years-trump-in-pictures', 'https://www.theguardian.com/artanddesign/gallery/2020/feb/25/extreme-selfies-the-photographer-who-goes-out-on-a-limb-in-pictures-minkkinen', 'https://www.theguardian.com/world/gallery/2020/feb/24/canary-islands-sandstorm-leaves-tourists-stranded-in-pictures', 'https://www.theguardian.com/world/gallery/2020/feb/24/rio-carnival-2020-in-pictures', 'https://www.theguardian.com/environment/gallery/2020/feb/24/bohai-bay-the-chinese-region-disappearing-inch-by-inch-in-pictures'])"
      ]
     },
     "execution_count": 8,
     "metadata": {},
     "output_type": "execute_result"
    }
   ],
   "source": [
    "articles_to_download.values()"
   ]
  },
  {
   "cell_type": "markdown",
   "metadata": {},
   "source": [
    "To do:\n",
    "- Store already parsed articles in a db (Mongo?)\n",
    "- Schedule feed update"
   ]
  },
  {
   "cell_type": "markdown",
   "metadata": {},
   "source": [
    "#### The Guardian"
   ]
  },
  {
   "cell_type": "code",
   "execution_count": 9,
   "metadata": {},
   "outputs": [],
   "source": [
    "import requests\n",
    "from bs4 import BeautifulSoup"
   ]
  },
  {
   "cell_type": "code",
   "execution_count": 10,
   "metadata": {},
   "outputs": [],
   "source": [
    "page = requests.get('https://www.theguardian.com/politics/2020/feb/24/no-10-uk-aim-is-to-restore-independence-from-eu-by-end-of-year') \n",
    "soup = BeautifulSoup(page.content, 'html.parser')"
   ]
  },
  {
   "cell_type": "code",
   "execution_count": 11,
   "metadata": {},
   "outputs": [],
   "source": [
    "article_content= soup.body.find(class_=\"content__article-body from-content-api js-article__body\")"
   ]
  },
  {
   "cell_type": "code",
   "execution_count": 12,
   "metadata": {},
   "outputs": [
    {
     "name": "stdout",
     "output_type": "stream",
     "text": [
      "Britain’s main goal in trade talks with the EU will be to “restore economic and political independence from 1 January”, No 10 has said, as the government prepares to publish its negotiating aims on Thursday.\n",
      "----\n",
      "Boris Johnson’s official spokesman said the “primary objective” was ending the transition period by the end of the year, regardless of whether a deal had been struck.\n",
      "----\n",
      "His comments suggest the UK will be prepared to walk away from talks rather than submit to the EU’s requests for some oversight by the European court of justice (ECJ) and future alignment on regulation.\n",
      "----\n",
      "The UK has said it will push for a Canada-style trade deal but appears to be prioritising the freedom to set its own rules rather than achieving such an agreement, if the EU insists on more alignment than it has with Canada.\n",
      "----\n",
      "The negotiating aims are expected to be signed off by the “XS” committee – including Johnson, Michael Gove, the Cabinet Office minister, and Dominic Raab, the foreign secretary – on Tuesday after an earlier cabinet meeting.\n",
      "----\n",
      "The EU’s negotiating priorities are due to be published on Tuesday after a meeting of the EU general affairs council and Monday’s meeting of ambassadors.\n",
      "----\n",
      "Johnson has been warned that the French government will not be blackmailed into a trade deal that risks France’s long-term economic interests, as the EU prepared to further harden its negotiating position.\n",
      "----\n",
      "No 10’s latest statement of intent echoes remarks made last week by David Frost, the UK’s chief negotiator with the EU. In a speech, he claimed the democratic consent of the British public would “snap dramatically and finally” if the UK continued to be tied to EU rules.\n",
      "----\n",
      "Frost said No 10 was not engaging in game-playing by rejecting alignment with EU laws after 2020 and insisted that the ability to break free from the EU’s rulebook was essential to the purpose of Brexit.\n",
      "----\n",
      "“We are not looking for anything special,” he said in the speech.\n",
      "----\n",
      "Frost, a former ambassador to Denmark, went on to reject suggestions that the ECJ would supervise any “level playing field” conditions designed to ensure that neither side undercuts the other.\n",
      "----\n",
      "He also said the UK would not take part in any EU programmes or agencies that put the country under the jurisdiction of the EU court.\n",
      "----\n",
      "“We bring to the negotiations not some clever tactical positioning but the fundamentals of what it means to be an independent country,” Frost said. “It is central to our vision that we must have the ability to set laws that suit us – to claim the right that every other non-EU country in the world has.”\n",
      "----\n",
      "A senior government source said No 10’s “red line” was avoiding any oversight from the ECJ and rejecting alignment of regulations with Brussels.\n",
      "----\n",
      "“Our overriding objective in the negotiations is by 1 January to have taken back control and we won’t agree to anything that doesn’t deliver that. Which means no rule-taking from the EU and no role for the European Court of Justice,” the source said.\n",
      "----\n",
      "“Our red line is we have to have taken back full control by 1 January … Independence and fully taking back control is the priority. We want to do that through a Canada FTA (free trade agreement) but ultimately our priority is taking back control.”\n",
      "----\n",
      "\n",
      "----\n"
     ]
    }
   ],
   "source": [
    "for paragraph in article_content.find_all('p'):\n",
    "    print(paragraph.get_text())\n",
    "    print(\"----\")"
   ]
  },
  {
   "cell_type": "code",
   "execution_count": 13,
   "metadata": {},
   "outputs": [],
   "source": [
    "article = []\n",
    "for paragraph in article_content.find_all('p'):\n",
    "    sentence = paragraph.get_text()\n",
    "    if sentence != \"\":\n",
    "        article.append(paragraph.get_text())"
   ]
  },
  {
   "cell_type": "code",
   "execution_count": 14,
   "metadata": {},
   "outputs": [
    {
     "data": {
      "text/plain": [
       "['Britain’s main goal in trade talks with the EU will be to “restore economic and political independence from 1 January”, No 10 has said, as the government prepares to publish its negotiating aims on Thursday.',\n",
       " 'Boris Johnson’s official spokesman said the “primary objective” was ending the transition period by the end of the year, regardless of whether a deal had been struck.',\n",
       " 'His comments suggest the UK will be prepared to walk away from talks rather than submit to the EU’s requests for some oversight by the European court of justice (ECJ) and future alignment on regulation.',\n",
       " 'The UK has said it will push for a Canada-style trade deal but appears to be prioritising the freedom to set its own rules rather than achieving such an agreement, if the EU insists on more alignment than it has with Canada.',\n",
       " 'The negotiating aims are expected to be signed off by the “XS” committee – including Johnson, Michael Gove, the Cabinet Office minister, and Dominic Raab, the foreign secretary – on Tuesday after an earlier cabinet meeting.',\n",
       " 'The EU’s negotiating priorities are due to be published on Tuesday after a meeting of the EU general affairs council and Monday’s meeting of ambassadors.',\n",
       " 'Johnson has been warned that the French government will not be blackmailed into a trade deal that risks France’s long-term economic interests, as the EU prepared to further harden its negotiating position.',\n",
       " 'No 10’s latest statement of intent echoes remarks made last week by David Frost, the UK’s chief negotiator with the EU. In a speech, he claimed the democratic consent of the British public would “snap dramatically and finally” if the UK continued to be tied to EU rules.',\n",
       " 'Frost said No 10 was not engaging in game-playing by rejecting alignment with EU laws after 2020 and insisted that the ability to break free from the EU’s rulebook was essential to the purpose of Brexit.',\n",
       " '“We are not looking for anything special,” he said in the speech.',\n",
       " 'Frost, a former ambassador to Denmark, went on to reject suggestions that the ECJ would supervise any “level playing field” conditions designed to ensure that neither side undercuts the other.',\n",
       " 'He also said the UK would not take part in any EU programmes or agencies that put the country under the jurisdiction of the EU court.',\n",
       " '“We bring to the negotiations not some clever tactical positioning but the fundamentals of what it means to be an independent country,” Frost said. “It is central to our vision that we must have the ability to set laws that suit us – to claim the right that every other non-EU country in the world has.”',\n",
       " 'A senior government source said No 10’s “red line” was avoiding any oversight from the ECJ and rejecting alignment of regulations with Brussels.',\n",
       " '“Our overriding objective in the negotiations is by 1 January to have taken back control and we won’t agree to anything that doesn’t deliver that. Which means no rule-taking from the EU and no role for the European Court of Justice,” the source said.',\n",
       " '“Our red line is we have to have taken back full control by 1 January … Independence and fully taking back control is the priority. We want to do that through a Canada FTA (free trade agreement) but ultimately our priority is taking back control.”']"
      ]
     },
     "execution_count": 14,
     "metadata": {},
     "output_type": "execute_result"
    }
   ],
   "source": [
    "article"
   ]
  },
  {
   "cell_type": "markdown",
   "metadata": {},
   "source": [
    "To do:\n",
    "- Read article main class from config in order to make it more general"
   ]
  },
  {
   "cell_type": "markdown",
   "metadata": {},
   "source": [
    "## Summarise the given text:"
   ]
  },
  {
   "cell_type": "markdown",
   "metadata": {},
   "source": [
    "Glove model (Wikipedia 2014 + Gigaword 5) download from here: https://nlp.stanford.edu/projects/glove/\n",
    "\n",
    "Sentence similarity: inspiration taken from here: https://medium.com/@adriensieg/text-similarities-da019229c894"
   ]
  },
  {
   "cell_type": "code",
   "execution_count": 15,
   "metadata": {},
   "outputs": [],
   "source": [
    "model = {}\n",
    "with open(\"../glove.6B/glove.6B.50d.txt\", 'r') as f:\n",
    "    for line in f:\n",
    "        values = line.split()\n",
    "        word = values[0]\n",
    "        vector = np.asarray(values[1:], \"float32\")\n",
    "        model[word] = vector"
   ]
  },
  {
   "cell_type": "code",
   "execution_count": 16,
   "metadata": {},
   "outputs": [
    {
     "name": "stderr",
     "output_type": "stream",
     "text": [
      "[nltk_data] Downloading package punkt to /Users/kappa/nltk_data...\n",
      "[nltk_data]   Package punkt is already up-to-date!\n",
      "[nltk_data] Downloading package stopwords to /Users/kappa/nltk_data...\n",
      "[nltk_data]   Package stopwords is already up-to-date!\n"
     ]
    },
    {
     "data": {
      "text/plain": [
       "True"
      ]
     },
     "execution_count": 16,
     "metadata": {},
     "output_type": "execute_result"
    }
   ],
   "source": [
    "from nltk.corpus import stopwords\n",
    "nltk.download('punkt')\n",
    "nltk.download('stopwords')"
   ]
  },
  {
   "cell_type": "code",
   "execution_count": 17,
   "metadata": {},
   "outputs": [],
   "source": [
    "from nltk.tokenize import word_tokenize\n",
    "def tokenize_sentence(s):\n",
    "    tokenizes_s = word_tokenize(s)\n",
    "    return tokenizes_s"
   ]
  },
  {
   "cell_type": "code",
   "execution_count": 18,
   "metadata": {},
   "outputs": [],
   "source": [
    "stopws = stopwords.words(\"english\")\n",
    "stopws = np.array(stopws[:-36]) # for excluding \"negation\" words"
   ]
  },
  {
   "cell_type": "code",
   "execution_count": 19,
   "metadata": {},
   "outputs": [],
   "source": [
    "import re"
   ]
  },
  {
   "cell_type": "code",
   "execution_count": 20,
   "metadata": {},
   "outputs": [],
   "source": [
    "def preprocess_text(s):\n",
    "    s = s.lower()\n",
    "    #s = re.sub('[^A-Za-z0-9-\\- ]+', '', s)\n",
    "    s = re.sub('[^A-Za-z0-9 ]+', ' ', s)\n",
    "    s = tokenize_sentence(s)\n",
    "    s = [word for word in s if word not in stopws]\n",
    "    return s"
   ]
  },
  {
   "cell_type": "code",
   "execution_count": 21,
   "metadata": {},
   "outputs": [
    {
     "data": {
      "text/plain": [
       "['britain',\n",
       " 'main',\n",
       " 'goal',\n",
       " 'trade',\n",
       " 'talks',\n",
       " 'eu',\n",
       " 'restore',\n",
       " 'economic',\n",
       " 'political',\n",
       " 'independence',\n",
       " '1',\n",
       " 'january',\n",
       " '10',\n",
       " 'said',\n",
       " 'government',\n",
       " 'prepares',\n",
       " 'publish',\n",
       " 'negotiating',\n",
       " 'aims',\n",
       " 'thursday']"
      ]
     },
     "execution_count": 21,
     "metadata": {},
     "output_type": "execute_result"
    }
   ],
   "source": [
    "preprocess_text(article[0])"
   ]
  },
  {
   "cell_type": "code",
   "execution_count": 22,
   "metadata": {},
   "outputs": [],
   "source": [
    "from scipy.spatial.distance import cosine"
   ]
  },
  {
   "cell_type": "code",
   "execution_count": 23,
   "metadata": {},
   "outputs": [],
   "source": [
    "def vectorize_sentence(s, empty_vector_size=50):\n",
    "    v = []\n",
    "    for word in preprocess_text(s):\n",
    "        try:\n",
    "            v.append(model[word])\n",
    "        except:\n",
    "            v.append(np.zeros(empty_vector_size))\n",
    "    return np.mean(v, axis=0)\n",
    "        "
   ]
  },
  {
   "cell_type": "code",
   "execution_count": 24,
   "metadata": {},
   "outputs": [],
   "source": [
    "def compute_sentence_similarity(s1, s2):\n",
    "    #vector_1 = np.mean([model[word] for word in preprocess_text(s1)],axis=0)\n",
    "    #vector_2 = np.mean([model[word] for word in preprocess_text(s2)],axis=0)\n",
    "    vector_1 = vectorize_sentence(s1)\n",
    "    vector_2 = vectorize_sentence(s2)\n",
    "    sim = cosine(vector_1, vector_2)\n",
    "    #print('Word Embedding method with a cosine distance asses that our two sentences are similar to',round((1-sim)*100,2),'%')\n",
    "    return sim"
   ]
  },
  {
   "cell_type": "code",
   "execution_count": 25,
   "metadata": {},
   "outputs": [
    {
     "data": {
      "text/plain": [
       "0.08225750923156738"
      ]
     },
     "execution_count": 25,
     "metadata": {},
     "output_type": "execute_result"
    }
   ],
   "source": [
    "compute_sentence_similarity(article[0], article[1])"
   ]
  },
  {
   "cell_type": "code",
   "execution_count": 26,
   "metadata": {},
   "outputs": [
    {
     "data": {
      "text/plain": [
       "0.07303470373153687"
      ]
     },
     "execution_count": 26,
     "metadata": {},
     "output_type": "execute_result"
    }
   ],
   "source": [
    "compute_sentence_similarity(article[0], article[5])"
   ]
  },
  {
   "cell_type": "code",
   "execution_count": 27,
   "metadata": {},
   "outputs": [],
   "source": [
    "def build_similarity_matrix(sentences):\n",
    "    n_sent = len(sentences)\n",
    "    matrix = np.zeros((n_sent, n_sent))\n",
    "    for i in range(0, n_sent):\n",
    "        for j in range(0, n_sent):\n",
    "            if i == j:\n",
    "                continue\n",
    "            elif matrix[j,i] != 0:\n",
    "                matrix[i,j] = matrix[j,i]\n",
    "            else:\n",
    "                matrix[i,j] = compute_sentence_similarity(sentences[i], sentences[j])"
   ]
  },
  {
   "cell_type": "code",
   "execution_count": 28,
   "metadata": {},
   "outputs": [],
   "source": [
    "build_similarity_matrix(article)"
   ]
  },
  {
   "cell_type": "markdown",
   "metadata": {},
   "source": [
    "To Do:\n",
    "- Order sentences according to similarity\n",
    "- Choose top n\n",
    "- For the future: Try other approaches"
   ]
  },
  {
   "cell_type": "code",
   "execution_count": null,
   "metadata": {},
   "outputs": [],
   "source": []
  }
 ],
 "metadata": {
  "kernelspec": {
   "display_name": "summariser",
   "language": "python",
   "name": "summariser"
  },
  "language_info": {
   "codemirror_mode": {
    "name": "ipython",
    "version": 3
   },
   "file_extension": ".py",
   "mimetype": "text/x-python",
   "name": "python",
   "nbconvert_exporter": "python",
   "pygments_lexer": "ipython3",
   "version": "3.6.8"
  }
 },
 "nbformat": 4,
 "nbformat_minor": 2
}
